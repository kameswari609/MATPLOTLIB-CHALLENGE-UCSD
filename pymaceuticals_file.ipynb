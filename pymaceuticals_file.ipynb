{
 "cells": [
  {
   "cell_type": "markdown",
   "metadata": {},
   "source": [
    "\n",
    "# Summary description analysis\n",
    "\n",
    "## for capomulin regimen is highest =230 but the tumor volume mean is the lowest (40) among other regimens\n",
    "\n",
    "## there is negative correlation relationship between time point and tumor volume  of capomulin regimen \n",
    "\n",
    "## the correlation of weights and tumor volume is positive for capomulin regimen\n",
    "\n",
    "### thank you"
   ]
  },
  {
   "cell_type": "code",
   "execution_count": 1,
   "metadata": {},
   "outputs": [
    {
     "data": {
      "text/html": [
       "<div>\n",
       "<style scoped>\n",
       "    .dataframe tbody tr th:only-of-type {\n",
       "        vertical-align: middle;\n",
       "    }\n",
       "\n",
       "    .dataframe tbody tr th {\n",
       "        vertical-align: top;\n",
       "    }\n",
       "\n",
       "    .dataframe thead th {\n",
       "        text-align: right;\n",
       "    }\n",
       "</style>\n",
       "<table border=\"1\" class=\"dataframe\">\n",
       "  <thead>\n",
       "    <tr style=\"text-align: right;\">\n",
       "      <th></th>\n",
       "      <th>Mouse ID</th>\n",
       "      <th>Drug Regimen</th>\n",
       "      <th>Sex</th>\n",
       "      <th>Age_months</th>\n",
       "      <th>Weight (g)</th>\n",
       "      <th>Timepoint</th>\n",
       "      <th>Tumor Volume (mm3)</th>\n",
       "      <th>Metastatic Sites</th>\n",
       "    </tr>\n",
       "  </thead>\n",
       "  <tbody>\n",
       "    <tr>\n",
       "      <th>0</th>\n",
       "      <td>k403</td>\n",
       "      <td>Ramicane</td>\n",
       "      <td>Male</td>\n",
       "      <td>21</td>\n",
       "      <td>16</td>\n",
       "      <td>0</td>\n",
       "      <td>45.000000</td>\n",
       "      <td>0</td>\n",
       "    </tr>\n",
       "    <tr>\n",
       "      <th>1</th>\n",
       "      <td>k403</td>\n",
       "      <td>Ramicane</td>\n",
       "      <td>Male</td>\n",
       "      <td>21</td>\n",
       "      <td>16</td>\n",
       "      <td>5</td>\n",
       "      <td>38.825898</td>\n",
       "      <td>0</td>\n",
       "    </tr>\n",
       "    <tr>\n",
       "      <th>2</th>\n",
       "      <td>k403</td>\n",
       "      <td>Ramicane</td>\n",
       "      <td>Male</td>\n",
       "      <td>21</td>\n",
       "      <td>16</td>\n",
       "      <td>10</td>\n",
       "      <td>35.014271</td>\n",
       "      <td>1</td>\n",
       "    </tr>\n",
       "    <tr>\n",
       "      <th>3</th>\n",
       "      <td>k403</td>\n",
       "      <td>Ramicane</td>\n",
       "      <td>Male</td>\n",
       "      <td>21</td>\n",
       "      <td>16</td>\n",
       "      <td>15</td>\n",
       "      <td>34.223992</td>\n",
       "      <td>1</td>\n",
       "    </tr>\n",
       "    <tr>\n",
       "      <th>4</th>\n",
       "      <td>k403</td>\n",
       "      <td>Ramicane</td>\n",
       "      <td>Male</td>\n",
       "      <td>21</td>\n",
       "      <td>16</td>\n",
       "      <td>20</td>\n",
       "      <td>32.997729</td>\n",
       "      <td>1</td>\n",
       "    </tr>\n",
       "    <tr>\n",
       "      <th>...</th>\n",
       "      <td>...</td>\n",
       "      <td>...</td>\n",
       "      <td>...</td>\n",
       "      <td>...</td>\n",
       "      <td>...</td>\n",
       "      <td>...</td>\n",
       "      <td>...</td>\n",
       "      <td>...</td>\n",
       "    </tr>\n",
       "    <tr>\n",
       "      <th>95</th>\n",
       "      <td>u364</td>\n",
       "      <td>Capomulin</td>\n",
       "      <td>Male</td>\n",
       "      <td>18</td>\n",
       "      <td>17</td>\n",
       "      <td>0</td>\n",
       "      <td>45.000000</td>\n",
       "      <td>0</td>\n",
       "    </tr>\n",
       "    <tr>\n",
       "      <th>96</th>\n",
       "      <td>u364</td>\n",
       "      <td>Capomulin</td>\n",
       "      <td>Male</td>\n",
       "      <td>18</td>\n",
       "      <td>17</td>\n",
       "      <td>5</td>\n",
       "      <td>45.760886</td>\n",
       "      <td>1</td>\n",
       "    </tr>\n",
       "    <tr>\n",
       "      <th>97</th>\n",
       "      <td>u364</td>\n",
       "      <td>Capomulin</td>\n",
       "      <td>Male</td>\n",
       "      <td>18</td>\n",
       "      <td>17</td>\n",
       "      <td>10</td>\n",
       "      <td>46.568417</td>\n",
       "      <td>2</td>\n",
       "    </tr>\n",
       "    <tr>\n",
       "      <th>98</th>\n",
       "      <td>u364</td>\n",
       "      <td>Capomulin</td>\n",
       "      <td>Male</td>\n",
       "      <td>18</td>\n",
       "      <td>17</td>\n",
       "      <td>15</td>\n",
       "      <td>47.212200</td>\n",
       "      <td>2</td>\n",
       "    </tr>\n",
       "    <tr>\n",
       "      <th>99</th>\n",
       "      <td>u364</td>\n",
       "      <td>Capomulin</td>\n",
       "      <td>Male</td>\n",
       "      <td>18</td>\n",
       "      <td>17</td>\n",
       "      <td>20</td>\n",
       "      <td>40.343948</td>\n",
       "      <td>2</td>\n",
       "    </tr>\n",
       "  </tbody>\n",
       "</table>\n",
       "<p>100 rows × 8 columns</p>\n",
       "</div>"
      ],
      "text/plain": [
       "   Mouse ID Drug Regimen   Sex  Age_months  Weight (g)  Timepoint  \\\n",
       "0      k403     Ramicane  Male          21          16          0   \n",
       "1      k403     Ramicane  Male          21          16          5   \n",
       "2      k403     Ramicane  Male          21          16         10   \n",
       "3      k403     Ramicane  Male          21          16         15   \n",
       "4      k403     Ramicane  Male          21          16         20   \n",
       "..      ...          ...   ...         ...         ...        ...   \n",
       "95     u364    Capomulin  Male          18          17          0   \n",
       "96     u364    Capomulin  Male          18          17          5   \n",
       "97     u364    Capomulin  Male          18          17         10   \n",
       "98     u364    Capomulin  Male          18          17         15   \n",
       "99     u364    Capomulin  Male          18          17         20   \n",
       "\n",
       "    Tumor Volume (mm3)  Metastatic Sites  \n",
       "0            45.000000                 0  \n",
       "1            38.825898                 0  \n",
       "2            35.014271                 1  \n",
       "3            34.223992                 1  \n",
       "4            32.997729                 1  \n",
       "..                 ...               ...  \n",
       "95           45.000000                 0  \n",
       "96           45.760886                 1  \n",
       "97           46.568417                 2  \n",
       "98           47.212200                 2  \n",
       "99           40.343948                 2  \n",
       "\n",
       "[100 rows x 8 columns]"
      ]
     },
     "execution_count": 1,
     "metadata": {},
     "output_type": "execute_result"
    }
   ],
   "source": [
    " # Dependencies and Setup\n",
    "import matplotlib.pyplot as plt\n",
    "import pandas as pd\n",
    "import scipy.stats as st\n",
    "import numpy as np\n",
    "from scipy.stats import linregress\n",
    "\n",
    "\n",
    "# Study data files\n",
    "mouse_metadata = \"Mouse_metadata.csv\"\n",
    "study_results = \"Study_results.csv\"\n",
    "\n",
    "# Read the mouse data and the study results\n",
    "mouse_metadata_df = pd.read_csv(mouse_metadata)\n",
    "study_results_df = pd.read_csv(study_results)\n",
    "\n",
    "# Combine the data into a single dataset\n",
    "combined_mouse_df = pd.merge(mouse_metadata_df, study_results_df,\n",
    "                                 how='outer', on='Mouse ID')\n",
    "combined_mouse_df.head(100)\n",
    "\n",
    "\n"
   ]
  },
  {
   "cell_type": "code",
   "execution_count": 2,
   "metadata": {},
   "outputs": [
    {
     "data": {
      "text/html": [
       "<div>\n",
       "<style scoped>\n",
       "    .dataframe tbody tr th:only-of-type {\n",
       "        vertical-align: middle;\n",
       "    }\n",
       "\n",
       "    .dataframe tbody tr th {\n",
       "        vertical-align: top;\n",
       "    }\n",
       "\n",
       "    .dataframe thead th {\n",
       "        text-align: right;\n",
       "    }\n",
       "</style>\n",
       "<table border=\"1\" class=\"dataframe\">\n",
       "  <thead>\n",
       "    <tr style=\"text-align: right;\">\n",
       "      <th></th>\n",
       "      <th>tumorvolume mean</th>\n",
       "      <th>tumorvolume median</th>\n",
       "      <th>tumorvolume variance</th>\n",
       "      <th>tumorvolume st dev.</th>\n",
       "      <th>tumor_volume_sem</th>\n",
       "    </tr>\n",
       "    <tr>\n",
       "      <th>Drug Regimen</th>\n",
       "      <th></th>\n",
       "      <th></th>\n",
       "      <th></th>\n",
       "      <th></th>\n",
       "      <th></th>\n",
       "    </tr>\n",
       "  </thead>\n",
       "  <tbody>\n",
       "    <tr>\n",
       "      <th>Capomulin</th>\n",
       "      <td>40.675741</td>\n",
       "      <td>41.557809</td>\n",
       "      <td>24.947764</td>\n",
       "      <td>4.994774</td>\n",
       "      <td>0.329346</td>\n",
       "    </tr>\n",
       "    <tr>\n",
       "      <th>Ceftamin</th>\n",
       "      <td>52.591172</td>\n",
       "      <td>51.776157</td>\n",
       "      <td>39.290177</td>\n",
       "      <td>6.268188</td>\n",
       "      <td>0.469821</td>\n",
       "    </tr>\n",
       "    <tr>\n",
       "      <th>Infubinol</th>\n",
       "      <td>52.884795</td>\n",
       "      <td>51.820584</td>\n",
       "      <td>43.128684</td>\n",
       "      <td>6.567243</td>\n",
       "      <td>0.492236</td>\n",
       "    </tr>\n",
       "    <tr>\n",
       "      <th>Ketapril</th>\n",
       "      <td>55.235638</td>\n",
       "      <td>53.698743</td>\n",
       "      <td>68.553577</td>\n",
       "      <td>8.279709</td>\n",
       "      <td>0.603860</td>\n",
       "    </tr>\n",
       "    <tr>\n",
       "      <th>Naftisol</th>\n",
       "      <td>54.331565</td>\n",
       "      <td>52.509285</td>\n",
       "      <td>66.173479</td>\n",
       "      <td>8.134708</td>\n",
       "      <td>0.596466</td>\n",
       "    </tr>\n",
       "    <tr>\n",
       "      <th>Placebo</th>\n",
       "      <td>54.033581</td>\n",
       "      <td>52.288934</td>\n",
       "      <td>61.168083</td>\n",
       "      <td>7.821003</td>\n",
       "      <td>0.581331</td>\n",
       "    </tr>\n",
       "    <tr>\n",
       "      <th>Propriva</th>\n",
       "      <td>52.322552</td>\n",
       "      <td>50.854632</td>\n",
       "      <td>42.351070</td>\n",
       "      <td>6.507770</td>\n",
       "      <td>0.512884</td>\n",
       "    </tr>\n",
       "    <tr>\n",
       "      <th>Ramicane</th>\n",
       "      <td>40.216745</td>\n",
       "      <td>40.673236</td>\n",
       "      <td>23.486704</td>\n",
       "      <td>4.846308</td>\n",
       "      <td>0.320955</td>\n",
       "    </tr>\n",
       "    <tr>\n",
       "      <th>Stelasyn</th>\n",
       "      <td>54.233149</td>\n",
       "      <td>52.431737</td>\n",
       "      <td>59.450562</td>\n",
       "      <td>7.710419</td>\n",
       "      <td>0.573111</td>\n",
       "    </tr>\n",
       "    <tr>\n",
       "      <th>Zoniferol</th>\n",
       "      <td>53.236507</td>\n",
       "      <td>51.818479</td>\n",
       "      <td>48.533355</td>\n",
       "      <td>6.966589</td>\n",
       "      <td>0.516398</td>\n",
       "    </tr>\n",
       "  </tbody>\n",
       "</table>\n",
       "</div>"
      ],
      "text/plain": [
       "              tumorvolume mean  tumorvolume median  tumorvolume variance  \\\n",
       "Drug Regimen                                                               \n",
       "Capomulin            40.675741           41.557809             24.947764   \n",
       "Ceftamin             52.591172           51.776157             39.290177   \n",
       "Infubinol            52.884795           51.820584             43.128684   \n",
       "Ketapril             55.235638           53.698743             68.553577   \n",
       "Naftisol             54.331565           52.509285             66.173479   \n",
       "Placebo              54.033581           52.288934             61.168083   \n",
       "Propriva             52.322552           50.854632             42.351070   \n",
       "Ramicane             40.216745           40.673236             23.486704   \n",
       "Stelasyn             54.233149           52.431737             59.450562   \n",
       "Zoniferol            53.236507           51.818479             48.533355   \n",
       "\n",
       "              tumorvolume st dev.  tumor_volume_sem  \n",
       "Drug Regimen                                         \n",
       "Capomulin                4.994774          0.329346  \n",
       "Ceftamin                 6.268188          0.469821  \n",
       "Infubinol                6.567243          0.492236  \n",
       "Ketapril                 8.279709          0.603860  \n",
       "Naftisol                 8.134708          0.596466  \n",
       "Placebo                  7.821003          0.581331  \n",
       "Propriva                 6.507770          0.512884  \n",
       "Ramicane                 4.846308          0.320955  \n",
       "Stelasyn                 7.710419          0.573111  \n",
       "Zoniferol                6.966589          0.516398  "
      ]
     },
     "execution_count": 2,
     "metadata": {},
     "output_type": "execute_result"
    }
   ],
   "source": [
    "drugregimen_group = combined_mouse_df.groupby('Drug Regimen')\n",
    "\n",
    "\n",
    "tumor_volume_mean = combined_mouse_df.groupby('Drug Regimen').mean()['Tumor Volume (mm3)']\n",
    "tumor_volume_median =  combined_mouse_df.groupby('Drug Regimen').median()['Tumor Volume (mm3)']\n",
    "tumor_volume_var =  combined_mouse_df.groupby('Drug Regimen').var()['Tumor Volume (mm3)']\n",
    "tumor_volume_std =  combined_mouse_df.groupby('Drug Regimen').std()['Tumor Volume (mm3)']\n",
    "tumor_volume_sem =  combined_mouse_df.groupby('Drug Regimen').sem()['Tumor Volume (mm3)']\n",
    "\n",
    "\n",
    "summary_table = pd.DataFrame({\"tumorvolume mean\": tumor_volume_mean,\n",
    "                              \"tumorvolume median\": tumor_volume_median,\n",
    "                              \"tumorvolume variance\": tumor_volume_var,\n",
    "                              \"tumorvolume st dev.\": tumor_volume_std,\n",
    "                              \"tumor_volume_sem\": tumor_volume_sem})\n",
    "\n",
    "\n",
    "summary_table"
   ]
  },
  {
   "cell_type": "code",
   "execution_count": 3,
   "metadata": {},
   "outputs": [
    {
     "data": {
      "text/plain": [
       "Drug Regimen\n",
       "Capomulin    40.675741\n",
       "Ceftamin     52.591172\n",
       "Infubinol    52.884795\n",
       "Ketapril     55.235638\n",
       "Naftisol     54.331565\n",
       "Placebo      54.033581\n",
       "Propriva     52.322552\n",
       "Ramicane     40.216745\n",
       "Stelasyn     54.233149\n",
       "Zoniferol    53.236507\n",
       "Name: Tumor Volume (mm3), dtype: float64"
      ]
     },
     "execution_count": 3,
     "metadata": {},
     "output_type": "execute_result"
    }
   ],
   "source": [
    "drugregimen_group['Tumor Volume (mm3)'].agg(np.mean)"
   ]
  },
  {
   "cell_type": "code",
   "execution_count": 4,
   "metadata": {},
   "outputs": [
    {
     "data": {
      "image/png": "[encoded data removed]",
      "text/plain": [
       "<Figure size 1440x360 with 1 Axes>"
      ]
     },
     "metadata": {
      "needs_background": "light"
     },
     "output_type": "display_data"
    },
    {
     "data": {
      "text/html": [
       "<div>\n",
       "<style scoped>\n",
       "    .dataframe tbody tr th:only-of-type {\n",
       "        vertical-align: middle;\n",
       "    }\n",
       "\n",
       "    .dataframe tbody tr th {\n",
       "        vertical-align: top;\n",
       "    }\n",
       "\n",
       "    .dataframe thead th {\n",
       "        text-align: right;\n",
       "    }\n",
       "</style>\n",
       "<table border=\"1\" class=\"dataframe\">\n",
       "  <thead>\n",
       "    <tr style=\"text-align: right;\">\n",
       "      <th></th>\n",
       "      <th>Drug Regimen</th>\n",
       "    </tr>\n",
       "  </thead>\n",
       "  <tbody>\n",
       "    <tr>\n",
       "      <th>Capomulin</th>\n",
       "      <td>230</td>\n",
       "    </tr>\n",
       "    <tr>\n",
       "      <th>Ramicane</th>\n",
       "      <td>228</td>\n",
       "    </tr>\n",
       "    <tr>\n",
       "      <th>Ketapril</th>\n",
       "      <td>188</td>\n",
       "    </tr>\n",
       "    <tr>\n",
       "      <th>Naftisol</th>\n",
       "      <td>186</td>\n",
       "    </tr>\n",
       "    <tr>\n",
       "      <th>Zoniferol</th>\n",
       "      <td>182</td>\n",
       "    </tr>\n",
       "    <tr>\n",
       "      <th>Stelasyn</th>\n",
       "      <td>181</td>\n",
       "    </tr>\n",
       "    <tr>\n",
       "      <th>Placebo</th>\n",
       "      <td>181</td>\n",
       "    </tr>\n",
       "    <tr>\n",
       "      <th>Ceftamin</th>\n",
       "      <td>178</td>\n",
       "    </tr>\n",
       "    <tr>\n",
       "      <th>Infubinol</th>\n",
       "      <td>178</td>\n",
       "    </tr>\n",
       "    <tr>\n",
       "      <th>Propriva</th>\n",
       "      <td>161</td>\n",
       "    </tr>\n",
       "  </tbody>\n",
       "</table>\n",
       "</div>"
      ],
      "text/plain": [
       "           Drug Regimen\n",
       "Capomulin           230\n",
       "Ramicane            228\n",
       "Ketapril            188\n",
       "Naftisol            186\n",
       "Zoniferol           182\n",
       "Stelasyn            181\n",
       "Placebo             181\n",
       "Ceftamin            178\n",
       "Infubinol           178\n",
       "Propriva            161"
      ]
     },
     "execution_count": 4,
     "metadata": {},
     "output_type": "execute_result"
    },
    {
     "data": {
      "text/plain": [
       "<Figure size 432x288 with 0 Axes>"
      ]
     },
     "metadata": {},
     "output_type": "display_data"
    }
   ],
   "source": [
    "rain_df = combined_mouse_df['Drug Regimen'].value_counts()\n",
    "\n",
    "multi_plot = rain_df.plot(kind=\"bar\", figsize=(20,5) ,color=\"blue\", label=\"drug regimen count\")\n",
    "\n",
    "#PandasPlot.set_xticklabels() can be used to set the tick labels as well\n",
    "#multi_plot.set_xticklabels( , rotation=45)\n",
    "\n",
    "Gender = [ 'counts of each regimen']\n",
    "plt.legend(Gender, loc=\"best\",fancybox=True, framealpha=1, shadow=True, borderpad=2, ncol=2)\n",
    "plt.xlabel(\"Drug Regimen\")\n",
    "plt.ylabel(\"Count\")\n",
    "plt.title(\"Total Count of each regimen with using pandas dataframe\")\n",
    "plt.show() \n",
    "plt.tight_layout()\n",
    "\n",
    "summary_table3 = pd.DataFrame(rain_df)\n",
    "summary_table3"
   ]
  },
  {
   "cell_type": "code",
   "execution_count": 5,
   "metadata": {},
   "outputs": [
    {
     "data": {
      "text/plain": [
       "Text(0.5, 1.0, 'Total Count Via PyPlot')"
      ]
     },
     "execution_count": 5,
     "metadata": {},
     "output_type": "execute_result"
    },
    {
     "data": {
      "image/png": "[encoded data removed]",
      "text/plain": [
       "<Figure size 1080x720 with 1 Axes>"
      ]
     },
     "metadata": {
      "needs_background": "light"
     },
     "output_type": "display_data"
    }
   ],
   "source": [
    "\n",
    "#x_axis = np.arange(len(combined_mouse_df['Drug Regimen']))\n",
    "#tick_locations = [value for value in x_axis]\n",
    "#plt.xticks(tick_locations, rotation=45)\n",
    "#plt.hist(combined_mouse_df['Drug Regimen'].value_counts())\n",
    "\n",
    "\n",
    "\n",
    "#tick_locations = [value for value in x_axis]\n",
    "#plt.xticks(tick_locations, [\"Java\", \"C++\", \"Python\", \"Ruby\", \"Clojure\"])\n",
    "\n",
    "\n",
    "# Set x axis and tick locations\n",
    "#x_axis = np.arange(len(summary_table3))\n",
    "#tick_locations = [value for value in x_axis]  \n",
    "\n",
    "#tick_locations\n",
    "#plt.figure(figsize=(100,300))\n",
    "#plt.bar(x_axis, combined_mouse_df['Drug Regimen'].value_counts(), color='r', alpha=0.5, align=\"edge\")\n",
    "#plt.xticks(tick_locations , combined_mouse_df['Drug Regimen'] ,rotation=\"vertical\")\n",
    "\n",
    "#plt.title(\"Average Rain per State\")\n",
    "#plt.xlabel(\"State\")\n",
    "#plt.ylabel(\"Average Amount of Rainfall in Inches\")  \n",
    "#plt.tight_layout()\n",
    "#plt.show()\n",
    "\n",
    "# Set x and y limits\n",
    "#plt.xlim(-0.25, len(x_axis))\n",
    "#plt.ylim(0, max(rain_df[\"Inches\"])+10)\n",
    "\n",
    "#plt.xticks(combined_mouse_df.groupby('Drug Regimen').value_counts())\n",
    "\n",
    "\n",
    "drug_regimen =summary_table3.index.tolist()\n",
    "\n",
    "\n",
    "num_regimen = combined_mouse_df['Drug Regimen'].value_counts()\n",
    "\n",
    "x_axis = np.arange(len(num_regimen))\n",
    "x_axis=drug_regimen\n",
    "Gender = ['counts of each regimen']\n",
    "\n",
    "plt.figure(figsize =(15,10))\n",
    "plt.bar(x_axis, num_regimen, color='r', align='center')\n",
    "plt.legend(Gender, loc=\"best\",fancybox=True, framealpha=1, borderpad=2, ncol=2)\n",
    "plt.xlabel(\"Drug Regimen\")\n",
    "plt.ylabel(\"Count\")\n",
    "plt.title(\"Total Count Via PyPlot\")"
   ]
  },
  {
   "cell_type": "code",
   "execution_count": 6,
   "metadata": {},
   "outputs": [
    {
     "data": {
      "image/png": "[encoded data removed]",
      "text/plain": [
       "<Figure size 432x288 with 1 Axes>"
      ]
     },
     "metadata": {},
     "output_type": "display_data"
    }
   ],
   "source": [
    "# Generate a pie plot showing the distribution of female versus male mice using pandas\n",
    "\n",
    "\n",
    "counts = combined_mouse_df.Sex.value_counts()\n",
    "counts.plot(kind=\"pie\",autopct='%1.1f%%')\n",
    "Gender4 = ['male', 'female']\n",
    "plt.legend(Gender4, loc=\"center\",fancybox=True, framealpha=1, borderpad=1, ncol=2)\n",
    "# plt.pie(counts.values,labels=counts.index.values,autopct='%1.1f%%')\n",
    "plt.show()"
   ]
  },
  {
   "cell_type": "code",
   "execution_count": 7,
   "metadata": {},
   "outputs": [
    {
     "data": {
      "image/png": "[encoded data removed]",
      "text/plain": [
       "<Figure size 432x288 with 1 Axes>"
      ]
     },
     "metadata": {},
     "output_type": "display_data"
    }
   ],
   "source": [
    "#generate pie plot using pyplot, matplotlib\n",
    "\n",
    "gyms = [\"Female\", \"Male\"]\n",
    "members = [935,958]\n",
    "colors = [\"yellow\", \"red\"]\n",
    "explode = (0, 0.05)\n",
    "\n",
    "\n",
    "plt.title(\"mouse data sex distribution\")\n",
    "plt.pie(members, explode=explode, labels=gyms, colors=colors,\n",
    "        autopct=\"%1.1f%%\", shadow=True, startangle=90)\n",
    "\n",
    "plt.legend(gyms, loc=\"best\")\n",
    "plt.axis(\"equal\")\n",
    "plt.show()\n",
    "\n",
    "#combined_mouse_df.plot(kind=\"pie\", y = combined_mouse_df.Sex.value_counts(), title=(\"mouse data sex distribution\"))\n"
   ]
  },
  {
   "cell_type": "code",
   "execution_count": 8,
   "metadata": {},
   "outputs": [],
   "source": [
    "# Start by getting the last (greatest) timepoint for each mouse\n",
    "max_tumor = combined_mouse_df.groupby([\"Mouse ID\"]).max()\n",
    "max_tumor = max_tumor.reset_index()\n",
    "# Merge this group df with the original dataframe to get the tumor volume at the last timepoint\n",
    "merged_data = max_tumor[['Mouse ID','Timepoint']].merge(combined_mouse_df,on=['Mouse ID','Timepoint'],how=\"left\")\n",
    "newdata = merged_data.groupby('Drug Regimen')"
   ]
  },
  {
   "cell_type": "code",
   "execution_count": 9,
   "metadata": {},
   "outputs": [
    {
     "name": "stdout",
     "output_type": "stream",
     "text": [
      "The lower quartile of ramicane mouse , tumor volume is: 31.56046955\n",
      "The upper quartile of ramicane mouse , tumor volume is: 40.65900627\n",
      "The interquartile range of ramicane mouse ,  is: 9.098536719999998\n",
      "Values below 17.912664470000003 could be outliers.\n",
      "Values above 54.30681135 could be outliers.\n",
      "Ramicane potential outliers: Series([], Name: Tumor Volume (mm3), dtype: float64)\n"
     ]
    }
   ],
   "source": [
    "#Quantitatively determine ramicane outliers\n",
    "\n",
    "ramicane = newdata.get_group('Ramicane')['Tumor Volume (mm3)']\n",
    " \n",
    "ram_quartiles = ramicane.quantile([.25,.5,.75])\n",
    "ram_lowerq = ram_quartiles[0.25]\n",
    "ram_upperq = ram_quartiles[0.75]\n",
    "ram_iqr = ram_upperq- ram_lowerq\n",
    "\n",
    "print(f\"The lower quartile of ramicane mouse , tumor volume is: {ram_lowerq}\")\n",
    "print(f\"The upper quartile of ramicane mouse , tumor volume is: {ram_upperq}\")\n",
    "print(f\"The interquartile range of ramicane mouse ,  is: {ram_iqr}\")\n",
    "\n",
    "\n",
    "ram_lower_bound = ram_lowerq - (1.5*ram_iqr)\n",
    "\n",
    "ram_upper_bound = ram_upperq + (1.5*ram_iqr)\n",
    "print(f\"Values below {ram_lower_bound} could be outliers.\")\n",
    "print(f\"Values above {ram_upper_bound} could be outliers.\")\n",
    "\n",
    "print(f\"Ramicane potential outliers: {ramicane.loc[(ramicane < ram_lower_bound) | (ramicane > ram_upper_bound)]}\")\n",
    "\n",
    "#outlier_occupancy = merged_data.loc[(ramicane['Tumor Volume (mm3)'] < lower_bound) | (ramicane['Tumor Volume (mm3)']  > upper_bound)]\n",
    "#outlier_occupancy"
   ]
  },
  {
   "cell_type": "code",
   "execution_count": 10,
   "metadata": {},
   "outputs": [
    {
     "data": {
      "text/plain": [
       "<matplotlib.legend.Legend at 0x224138da940>"
      ]
     },
     "execution_count": 10,
     "metadata": {},
     "output_type": "execute_result"
    },
    {
     "data": {
      "image/png": "[encoded data removed]",
      "text/plain": [
       "<Figure size 432x288 with 1 Axes>"
      ]
     },
     "metadata": {
      "needs_background": "light"
     },
     "output_type": "display_data"
    }
   ],
   "source": [
    "fig2, ax2 = plt.subplots()\n",
    "green_diamond = dict(markerfacecolor='g', marker='D')\n",
    "ax2.set_title('Notched boxes')\n",
    "ax2.boxplot(ramicane,  flierprops=green_diamond)\n",
    "ax2.set_title('ramicane mouse tumor volume description')\n",
    "ax2.set_ylabel('tumor volume in mmm3 ')\n",
    "\n",
    "ax2.legend(['ramicane mouse'])"
   ]
  },
  {
   "cell_type": "code",
   "execution_count": 11,
   "metadata": {},
   "outputs": [
    {
     "name": "stdout",
     "output_type": "stream",
     "text": [
      "The lower quartile of capomulin mouse , tumor volume is: 32.37735684\n",
      "The upper quartile of capomulin mouse , tumor volume is: 40.1592203\n",
      "The interquartile range of capomulin mouse ,  is: 7.781863460000004\n",
      "Values below 20.70456164999999 could be outliers.\n",
      "Values above 51.83201549 could be outliers.\n",
      "Capomulin potential outliers: Series([], Name: Tumor Volume (mm3), dtype: float64)\n"
     ]
    }
   ],
   "source": [
    "Capomulin = merged_data.loc[merged_data[\"Drug Regimen\"] == \"Capomulin\"]['Tumor Volume (mm3)']\n",
    " \n",
    "capomulin_quartiles = Capomulin.quantile([.25,.5,.75])\n",
    "lowerq1 = capomulin_quartiles[0.25]\n",
    "upperq1 = capomulin_quartiles[0.75]\n",
    "iqr1 = upperq1-lowerq1\n",
    "\n",
    "print(f\"The lower quartile of capomulin mouse , tumor volume is: {lowerq1}\")\n",
    "print(f\"The upper quartile of capomulin mouse , tumor volume is: {upperq1}\")\n",
    "print(f\"The interquartile range of capomulin mouse ,  is: {iqr1}\")\n",
    "\n",
    "\n",
    "lower_bound1 = lowerq1 - (1.5*iqr1)\n",
    "upper_bound1 = upperq1 + (1.5*iqr1)\n",
    "print(f\"Values below {lower_bound1} could be outliers.\")\n",
    "print(f\"Values above {upper_bound1} could be outliers.\")\n",
    "\n",
    "\n",
    "print(f\"Capomulin potential outliers: {Capomulin.loc[(Capomulin < lower_bound1) | (Capomulin > upper_bound1)]}\")"
   ]
  },
  {
   "cell_type": "code",
   "execution_count": 12,
   "metadata": {},
   "outputs": [
    {
     "data": {
      "text/plain": [
       "<matplotlib.legend.Legend at 0x22413970780>"
      ]
     },
     "execution_count": 12,
     "metadata": {},
     "output_type": "execute_result"
    },
    {
     "data": {
      "image/png": "[encoded data removed]",
      "text/plain": [
       "<Figure size 432x288 with 1 Axes>"
      ]
     },
     "metadata": {
      "needs_background": "light"
     },
     "output_type": "display_data"
    }
   ],
   "source": [
    "fig3, ax3 = plt.subplots()\n",
    "green_diamond = dict(markerfacecolor='r', marker='D')\n",
    "ax3.set_title('Notched boxes')\n",
    "ax3.boxplot(Capomulin,  flierprops=green_diamond)\n",
    "ax3.set_title('capomulin mouse tumor volume description')\n",
    "ax3.set_ylabel('tumor volume in mmm3 ')\n",
    "ax3.legend(['capomulin mouse'])"
   ]
  },
  {
   "cell_type": "code",
   "execution_count": 13,
   "metadata": {},
   "outputs": [
    {
     "name": "stdout",
     "output_type": "stream",
     "text": [
      "The lower quartile of Infubinol mouse , tumor volume is: 54.04860769\n",
      "The upper quartile of Infubinol mouse , tumor volume is: 65.52574285\n",
      "The interquartile range of Infubinol mouse ,  is: 11.477135160000003\n",
      "Values below 36.83290494999999 could be outliers.\n",
      "Values above 82.74144559000001 could be outliers.\n",
      "Infubinol potential outliers: 31    36.321346\n",
      "Name: Tumor Volume (mm3), dtype: float64\n"
     ]
    }
   ],
   "source": [
    "Infubinol = merged_data.loc[merged_data[\"Drug Regimen\"] == \"Infubinol\"]['Tumor Volume (mm3)']\n",
    " \n",
    "Infubinol_quartiles = Infubinol.quantile([.25,.5,.75])\n",
    "lowerq3 = Infubinol_quartiles[0.25]\n",
    "upperq3 = Infubinol_quartiles[0.75]\n",
    "iqr3 = upperq3-lowerq3\n",
    "\n",
    "print(f\"The lower quartile of Infubinol mouse , tumor volume is: {lowerq3}\")\n",
    "print(f\"The upper quartile of Infubinol mouse , tumor volume is: {upperq3}\")\n",
    "print(f\"The interquartile range of Infubinol mouse ,  is: {iqr3}\")\n",
    "\n",
    "\n",
    "lower_bound3 = lowerq3 - (1.5*iqr3)\n",
    "upper_bound3 = upperq3 + (1.5*iqr3)\n",
    "print(f\"Values below {lower_bound3} could be outliers.\")\n",
    "print(f\"Values above {upper_bound3} could be outliers.\")\n",
    "\n",
    "\n",
    "print(f\"Infubinol potential outliers: {Infubinol.loc[(Infubinol < lower_bound3) | (Infubinol > upper_bound3)]}\")"
   ]
  },
  {
   "cell_type": "code",
   "execution_count": 14,
   "metadata": {},
   "outputs": [
    {
     "data": {
      "text/plain": [
       "<matplotlib.legend.Legend at 0x22413bdef60>"
      ]
     },
     "execution_count": 14,
     "metadata": {},
     "output_type": "execute_result"
    },
    {
     "data": {
      "image/png": "[encoded data removed]",
      "text/plain": [
       "<Figure size 432x288 with 1 Axes>"
      ]
     },
     "metadata": {
      "needs_background": "light"
     },
     "output_type": "display_data"
    }
   ],
   "source": [
    "fig4, ax4 = plt.subplots()\n",
    "green_diamond = dict(markerfacecolor='r', marker='D')\n",
    "ax4.set_title('Notched boxes')\n",
    "ax4.boxplot(Infubinol,  flierprops=green_diamond)\n",
    "ax4.set_title('Infubinol mouse tumor volume description')\n",
    "ax4.set_ylabel('tumor volume in mmm3 ')\n",
    "ax4.legend(['Infubinol mouse'])"
   ]
  },
  {
   "cell_type": "code",
   "execution_count": 15,
   "metadata": {},
   "outputs": [
    {
     "name": "stdout",
     "output_type": "stream",
     "text": [
      "The lower quartile of Ceftamin mouse , tumor volume is: 48.72207785\n",
      "The upper quartile of Ceftamin mouse , tumor volume is: 64.29983003\n",
      "The interquartile range of Ceftamin mouse ,  is: 15.577752179999997\n",
      "Values below 25.355449580000002 could be outliers.\n",
      "Values above 87.66645829999999 could be outliers.\n",
      "ceftamin potential outliers: Series([], Name: Tumor Volume (mm3), dtype: float64)\n"
     ]
    }
   ],
   "source": [
    "Ceftamin =  merged_data.loc[merged_data[\"Drug Regimen\"] == \"Ceftamin\"]['Tumor Volume (mm3)']\n",
    " \n",
    "Ceftamin_quartiles = Ceftamin.quantile([.25,.5,.75])\n",
    "lowerq4 = Ceftamin_quartiles[0.25]\n",
    "upperq4 = Ceftamin_quartiles[0.75]\n",
    "iqr4 = upperq4-lowerq4\n",
    "\n",
    "print(f\"The lower quartile of Ceftamin mouse , tumor volume is: {lowerq4}\")\n",
    "print(f\"The upper quartile of Ceftamin mouse , tumor volume is: {upperq4}\")\n",
    "print(f\"The interquartile range of Ceftamin mouse ,  is: {iqr4}\")\n",
    "\n",
    "\n",
    "lower_bound4 = lowerq4 - (1.5*iqr4)\n",
    "upper_bound4 = upperq4 + (1.5*iqr4)\n",
    "print(f\"Values below {lower_bound4} could be outliers.\")\n",
    "print(f\"Values above {upper_bound4} could be outliers.\")\n",
    "\n",
    "\n",
    "print(f\"ceftamin potential outliers: {Ceftamin.loc[(Ceftamin < lower_bound4) | (Ceftamin > upper_bound4)]}\")"
   ]
  },
  {
   "cell_type": "code",
   "execution_count": 16,
   "metadata": {},
   "outputs": [
    {
     "data": {
      "text/plain": [
       "<matplotlib.legend.Legend at 0x224138da160>"
      ]
     },
     "execution_count": 16,
     "metadata": {},
     "output_type": "execute_result"
    },
    {
     "data": {
      "image/png": "[encoded data removed]",
      "text/plain": [
       "<Figure size 432x288 with 1 Axes>"
      ]
     },
     "metadata": {
      "needs_background": "light"
     },
     "output_type": "display_data"
    }
   ],
   "source": [
    "green_diamond = dict(markerfacecolor='g', marker='D')\n",
    "fig5, ax5 = plt.subplots()\n",
    "ax5.set_title('ceftamin mouse tumor volume description')\n",
    "ax5.set_ylabel('tumor volume in mmm3 ')\n",
    "ax5.boxplot(Ceftamin, flierprops=green_diamond)\n",
    "ax5.legend(['ceftamin mouse'])"
   ]
  },
  {
   "cell_type": "code",
   "execution_count": 17,
   "metadata": {
    "scrolled": true
   },
   "outputs": [
    {
     "data": {
      "text/html": [
       "<div>\n",
       "<style scoped>\n",
       "    .dataframe tbody tr th:only-of-type {\n",
       "        vertical-align: middle;\n",
       "    }\n",
       "\n",
       "    .dataframe tbody tr th {\n",
       "        vertical-align: top;\n",
       "    }\n",
       "\n",
       "    .dataframe thead th {\n",
       "        text-align: right;\n",
       "    }\n",
       "</style>\n",
       "<table border=\"1\" class=\"dataframe\">\n",
       "  <thead>\n",
       "    <tr style=\"text-align: right;\">\n",
       "      <th></th>\n",
       "      <th>tumor volume</th>\n",
       "      <th>timepoint</th>\n",
       "    </tr>\n",
       "  </thead>\n",
       "  <tbody>\n",
       "    <tr>\n",
       "      <th>10</th>\n",
       "      <td>45.000000</td>\n",
       "      <td>0</td>\n",
       "    </tr>\n",
       "    <tr>\n",
       "      <th>11</th>\n",
       "      <td>43.878496</td>\n",
       "      <td>5</td>\n",
       "    </tr>\n",
       "    <tr>\n",
       "      <th>12</th>\n",
       "      <td>37.614948</td>\n",
       "      <td>10</td>\n",
       "    </tr>\n",
       "    <tr>\n",
       "      <th>13</th>\n",
       "      <td>38.177232</td>\n",
       "      <td>15</td>\n",
       "    </tr>\n",
       "    <tr>\n",
       "      <th>14</th>\n",
       "      <td>36.866876</td>\n",
       "      <td>20</td>\n",
       "    </tr>\n",
       "    <tr>\n",
       "      <th>15</th>\n",
       "      <td>33.949940</td>\n",
       "      <td>25</td>\n",
       "    </tr>\n",
       "    <tr>\n",
       "      <th>16</th>\n",
       "      <td>32.959671</td>\n",
       "      <td>30</td>\n",
       "    </tr>\n",
       "    <tr>\n",
       "      <th>17</th>\n",
       "      <td>28.328531</td>\n",
       "      <td>35</td>\n",
       "    </tr>\n",
       "    <tr>\n",
       "      <th>18</th>\n",
       "      <td>25.472143</td>\n",
       "      <td>40</td>\n",
       "    </tr>\n",
       "    <tr>\n",
       "      <th>19</th>\n",
       "      <td>23.343598</td>\n",
       "      <td>45</td>\n",
       "    </tr>\n",
       "  </tbody>\n",
       "</table>\n",
       "</div>"
      ],
      "text/plain": [
       "    tumor volume  timepoint\n",
       "10     45.000000          0\n",
       "11     43.878496          5\n",
       "12     37.614948         10\n",
       "13     38.177232         15\n",
       "14     36.866876         20\n",
       "15     33.949940         25\n",
       "16     32.959671         30\n",
       "17     28.328531         35\n",
       "18     25.472143         40\n",
       "19     23.343598         45"
      ]
     },
     "execution_count": 17,
     "metadata": {},
     "output_type": "execute_result"
    }
   ],
   "source": [
    "#Capomulin.\n",
    "\n",
    "\n",
    "id1= combined_mouse_df.loc[combined_mouse_df[\"Mouse ID\"] == \"s185\" ]['Tumor Volume (mm3)']\n",
    "id2 = combined_mouse_df.loc[combined_mouse_df[\"Mouse ID\"] == \"s185\" ]['Timepoint']\n",
    "#id3 = combined_mouse_df.loc[combined_mouse_df[\"Drug Regimen\"] == \"Capomulin\"]['Mouse ID']\n",
    "\n",
    "\n",
    "summary_table = pd.DataFrame({\"tumor volume\": id1, \"timepoint\": id2})\n",
    "summary_table\n",
    "\n"
   ]
  },
  {
   "cell_type": "code",
   "execution_count": 18,
   "metadata": {},
   "outputs": [
    {
     "data": {
      "image/png": "[encoded data removed]",
      "text/plain": [
       "<Figure size 432x288 with 1 Axes>"
      ]
     },
     "metadata": {
      "needs_background": "light"
     },
     "output_type": "display_data"
    }
   ],
   "source": [
    "plt.xlabel(\"Time point\")\n",
    "plt.ylabel(\"tumor volume\")\n",
    "\n",
    "plt.title(\"time point vs tumor volume for id = s185 of capomulin regimen \")\n",
    "# Have to plot our line chart of time point vs tumor volume for  capomulin , mouse id = r517\n",
    "plt.plot(id2,id1)\n",
    "plt.show() "
   ]
  },
  {
   "cell_type": "code",
   "execution_count": 19,
   "metadata": {},
   "outputs": [],
   "source": [
    "#id3 = combined_mouse_df.loc[combined_mouse_df[\"Drug Regimen\"] == \"Capomulin\" ]['Tumor Volume (mm3)']\n",
    "#id4 = combined_mouse_df.loc[combined_mouse_df[\"Drug Regimen\"] == \"Capomulin\" ]['Weight (g)']\n",
    "# Generate a scatter plot of mouse weight versus average tumor volume for the Capomulin regimen\n",
    "capomulin_table =  combined_mouse_df.loc[combined_mouse_df[\"Drug Regimen\"] == \"Capomulin\" ]\n",
    "capomulin_average = capomulin_table.groupby(['Mouse ID']).mean()\n"
   ]
  },
  {
   "cell_type": "code",
   "execution_count": 20,
   "metadata": {},
   "outputs": [
    {
     "data": {
      "image/png": "[encoded data removed]",
      "text/plain": [
       "<Figure size 432x288 with 1 Axes>"
      ]
     },
     "metadata": {
      "needs_background": "light"
     },
     "output_type": "display_data"
    },
    {
     "name": "stdout",
     "output_type": "stream",
     "text": [
      "The correlation between both factors is 0.84\n"
     ]
    }
   ],
   "source": [
    "#generate regress and correlation coffient \n",
    "\n",
    "\n",
    "x_values = capomulin_average['Weight (g)']\n",
    "y_values = capomulin_average['Tumor Volume (mm3)']\n",
    "(slope, intercept, rvalue, pvalue, stderr) = linregress(x_values, y_values)\n",
    "regress_values = x_values * slope + intercept\n",
    "line_eq = \"y = \" + str(round(slope,2)) + \"x + \" + str(round(intercept,2))\n",
    "\n",
    "plt.plot(x_values,regress_values,\"r-\")\n",
    "plt.annotate(line_eq,(18,42),fontsize=15,color=\"black\")\n",
    "\n",
    "plt.scatter(capomulin_average['Weight (g)'],capomulin_average['Tumor Volume (mm3)'], marker=\"o\", facecolors=\"red\", edgecolors=\"pink\")\n",
    "plt.title(\" capomulin regimen avg tumorvolume vs mouse weigth\")\n",
    "plt.xlabel(\"mouse weight for capomulin\")\n",
    "plt.ylabel(\"avg tumor volume for capomulin\")\n",
    "#plt.legend(\"capomulins\",loc=\"best\",fancybox=True, framealpha=1, borderpad=2, ncol=2)\n",
    "plt.show()\n",
    "\n",
    "\n",
    "correlation = st.pearsonr(capomulin_average['Weight (g)'],capomulin_average['Tumor Volume (mm3)'])\n",
    "print(f\"The correlation between both factors is {round(correlation[0],2)}\")\n",
    "\n",
    "\n",
    "\n"
   ]
  }
 ],
 "metadata": {
  "kernelspec": {
   "display_name": "Python [conda env:PythonData]",
   "language": "python",
   "name": "conda-env-PythonData-py"
  },
  "language_info": {
   "codemirror_mode": {
    "name": "ipython",
    "version": 3
   },
   "file_extension": ".py",
   "mimetype": "text/x-python",
   "name": "python",
   "nbconvert_exporter": "python",
   "pygments_lexer": "ipython3",
   "version": "3.6.10"
  }
 },
 "nbformat": 4,
 "nbformat_minor": 4
}
